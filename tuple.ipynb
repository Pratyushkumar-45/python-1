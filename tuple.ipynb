{
 "cells": [
  {
   "cell_type": "code",
   "execution_count": 1,
   "id": "9efb8bfe",
   "metadata": {},
   "outputs": [],
   "source": [
    "char_list=\"radhe\",\"krishna\",\"karn\",\"arjun\",\"hanuman\""
   ]
  },
  {
   "cell_type": "code",
   "execution_count": 2,
   "id": "7df5e5f8",
   "metadata": {},
   "outputs": [
    {
     "name": "stdout",
     "output_type": "stream",
     "text": [
      "('radhe', 'krishna', 'karn', 'arjun', 'hanuman')\n"
     ]
    },
    {
     "data": {
      "text/plain": [
       "tuple"
      ]
     },
     "execution_count": 2,
     "metadata": {},
     "output_type": "execute_result"
    }
   ],
   "source": [
    "print(char_list)\n",
    "type(char_list)"
   ]
  },
  {
   "cell_type": "code",
   "execution_count": 3,
   "id": "0025dfdb",
   "metadata": {},
   "outputs": [],
   "source": [
    "num=2,3,5,839,3,3"
   ]
  },
  {
   "cell_type": "code",
   "execution_count": 5,
   "id": "019a0161",
   "metadata": {
    "scrolled": true
   },
   "outputs": [
    {
     "name": "stdout",
     "output_type": "stream",
     "text": [
      "[2, 3, 3, 3, 5, 839]\n"
     ]
    }
   ],
   "source": [
    "num_sorted=sorted(num)\n",
    "print (num_sorted)"
   ]
  },
  {
   "cell_type": "markdown",
   "id": "152d5f40",
   "metadata": {},
   "source": [
    "reversing sorted tuple"
   ]
  },
  {
   "cell_type": "code",
   "execution_count": 6,
   "id": "f177c3dc",
   "metadata": {},
   "outputs": [
    {
     "data": {
      "text/plain": [
       "[839, 5, 3, 3, 3, 2]"
      ]
     },
     "execution_count": 6,
     "metadata": {},
     "output_type": "execute_result"
    }
   ],
   "source": [
    "num_rev=sorted(num,reverse=True)\n",
    "num_rev"
   ]
  },
  {
   "cell_type": "code",
   "execution_count": 7,
   "id": "a889e240",
   "metadata": {},
   "outputs": [
    {
     "data": {
      "text/plain": [
       "(2, 3, 5, 839, 3, 3, 'radhe', 'krishna', 'karn', 'arjun', 'hanuman')"
      ]
     },
     "execution_count": 7,
     "metadata": {},
     "output_type": "execute_result"
    }
   ],
   "source": [
    "num + char_list"
   ]
  },
  {
   "cell_type": "code",
   "execution_count": 10,
   "id": "f2223f20",
   "metadata": {},
   "outputs": [
    {
     "name": "stdout",
     "output_type": "stream",
     "text": [
      "2\n",
      "3\n",
      "5\n",
      "839\n",
      "3\n",
      "3\n"
     ]
    }
   ],
   "source": [
    "for everynum in num:\n",
    "    print(everynum)"
   ]
  },
  {
   "cell_type": "code",
   "execution_count": 11,
   "id": "03b139b9",
   "metadata": {},
   "outputs": [
    {
     "data": {
      "text/plain": [
       "6"
      ]
     },
     "execution_count": 11,
     "metadata": {},
     "output_type": "execute_result"
    }
   ],
   "source": [
    "len(num)"
   ]
  },
  {
   "cell_type": "code",
   "execution_count": 13,
   "id": "e57b47b2",
   "metadata": {},
   "outputs": [
    {
     "name": "stdout",
     "output_type": "stream",
     "text": [
      "839\n"
     ]
    },
    {
     "data": {
      "text/plain": [
       "'radhe'"
      ]
     },
     "execution_count": 13,
     "metadata": {},
     "output_type": "execute_result"
    }
   ],
   "source": [
    "print(max(num))\n",
    "max(char_list)"
   ]
  },
  {
   "cell_type": "code",
   "execution_count": 16,
   "id": "5829be83",
   "metadata": {},
   "outputs": [
    {
     "data": {
      "text/plain": [
       "('radhe', 'krishna')"
      ]
     },
     "execution_count": 16,
     "metadata": {},
     "output_type": "execute_result"
    }
   ],
   "source": [
    "char_list[0:2]"
   ]
  },
  {
   "cell_type": "code",
   "execution_count": null,
   "id": "7e8a2084",
   "metadata": {},
   "outputs": [],
   "source": []
  }
 ],
 "metadata": {
  "kernelspec": {
   "display_name": "Python 3 (ipykernel)",
   "language": "python",
   "name": "python3"
  },
  "language_info": {
   "codemirror_mode": {
    "name": "ipython",
    "version": 3
   },
   "file_extension": ".py",
   "mimetype": "text/x-python",
   "name": "python",
   "nbconvert_exporter": "python",
   "pygments_lexer": "ipython3",
   "version": "3.9.12"
  }
 },
 "nbformat": 4,
 "nbformat_minor": 5
}
