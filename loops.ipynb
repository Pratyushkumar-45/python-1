{
 "cells": [
  {
   "cell_type": "code",
   "execution_count": 1,
   "id": "7df997e5",
   "metadata": {},
   "outputs": [
    {
     "name": "stdout",
     "output_type": "stream",
     "text": [
      "b is greater than a\n"
     ]
    }
   ],
   "source": [
    "a=20\n",
    "b=40\n",
    "if b>a:\n",
    "     print(\"b is greater than a\")"
   ]
  },
  {
   "cell_type": "code",
   "execution_count": 2,
   "id": "b41dfeb8",
   "metadata": {},
   "outputs": [],
   "source": [
    "a=20\n",
    "b=40\n",
    "if b<a:\n",
    "     print(\"b is less than a\")"
   ]
  },
  {
   "cell_type": "code",
   "execution_count": 3,
   "id": "53c2e0e3",
   "metadata": {},
   "outputs": [
    {
     "name": "stdout",
     "output_type": "stream",
     "text": [
      "b is greater than a\n"
     ]
    }
   ],
   "source": [
    "a=20\n",
    "b=40\n",
    "if b>a:\n",
    "     print(\"b is greater than a\")\n",
    "else:\n",
    "    print(\"b is less than a\")"
   ]
  },
  {
   "cell_type": "code",
   "execution_count": 4,
   "id": "d5790f8d",
   "metadata": {},
   "outputs": [
    {
     "name": "stdout",
     "output_type": "stream",
     "text": [
      "enter first number :45\n",
      "enter second number :56\n",
      "b is greater\n"
     ]
    }
   ],
   "source": [
    "a=int(input(\"enter first number :\"))\n",
    "b=int(input(\"enter second number :\"))\n",
    "if a==b:\n",
    "    print(\" a and b are equal\")\n",
    "elif a>b:\n",
    "    print(\"a is greater\")\n",
    "else:\n",
    "    print('b is greater')"
   ]
  },
  {
   "cell_type": "code",
   "execution_count": 5,
   "id": "c836e7a8",
   "metadata": {},
   "outputs": [
    {
     "name": "stdout",
     "output_type": "stream",
     "text": [
      "enter first number :6.8\n",
      "enter second number :7.7\n",
      "b is greater\n"
     ]
    }
   ],
   "source": [
    "a=float(input(\"enter first number :\"))\n",
    "b=float(input(\"enter second number :\"))\n",
    "if a==b:\n",
    "    print(\" a and b are equal\")\n",
    "elif a>b:\n",
    "    print(\"a is greater\")\n",
    "else:\n",
    "    print('b is greater')"
   ]
  },
  {
   "cell_type": "code",
   "execution_count": 7,
   "id": "278f4fec",
   "metadata": {},
   "outputs": [
    {
     "name": "stdout",
     "output_type": "stream",
     "text": [
      "enter num34\n",
      "num is even\n"
     ]
    }
   ],
   "source": [
    "num=int(input('enter num'))\n",
    "if (num%2==0):\n",
    "    print('num is even')\n",
    "else:\n",
    "    print('num is odd')\n"
   ]
  },
  {
   "cell_type": "markdown",
   "id": "d70c2aba",
   "metadata": {},
   "source": []
  },
  {
   "cell_type": "code",
   "execution_count": null,
   "id": "b8af5795",
   "metadata": {},
   "outputs": [],
   "source": [
    "var1= 8\n",
    "var2 =3\n",
    "if(var1 and var2)>0:\n",
    "    print('positive')\n",
    "elif(var1/var2)>1:\n",
    "    print('var1 > var2')\n"
   ]
  },
  {
   "cell_type": "code",
   "execution_count": 8,
   "id": "94962197",
   "metadata": {},
   "outputs": [
    {
     "data": {
      "text/plain": [
       "True"
      ]
     },
     "execution_count": 8,
     "metadata": {},
     "output_type": "execute_result"
    }
   ],
   "source": [
    "bool(10)"
   ]
  },
  {
   "cell_type": "code",
   "execution_count": null,
   "id": "0753fbab",
   "metadata": {},
   "outputs": [],
   "source": [
    "a=eval(input(\"Enter first number: \"))\n",
    "\n",
    "if(a<58):\n",
    "    if(a<=21):\n",
    "        print(\"You are not eligible for working\")\n",
    "    else:\n",
    "        print(\"You are eligible for working\")\n",
    "else:\n",
    "    print(\"You are retired\")"
   ]
  },
  {
   "cell_type": "code",
   "execution_count": null,
   "id": "603e5693",
   "metadata": {},
   "outputs": [],
   "source": [
    "Mark=int(input ('enter your mark'))\n",
    "if Mark>=30:\n",
    "     if Mark==30:\n",
    "         print('just pass')\n",
    "     else:\n",
    "         print(' pass with good marks')\n",
    "else:\n",
    "    print('fail')"
   ]
  },
  {
   "cell_type": "code",
   "execution_count": 16,
   "id": "2e69c6f4",
   "metadata": {},
   "outputs": [
    {
     "name": "stdout",
     "output_type": "stream",
     "text": [
      "enter temp :20\n",
      "coolest weather\n"
     ]
    }
   ],
   "source": [
    "temp=float(input(\"enter temp :\"))\n",
    "if temp==20 or temp<=20:\n",
    "    print(\"coolest weather\")\n",
    "elif (temp==30)>=20 or (temp==30)>20:\n",
    "    print(\"cool weather\")\n",
    "else:\n",
    "        print(\"warm weather\")"
   ]
  },
  {
   "cell_type": "code",
   "execution_count": 15,
   "id": "37c9715f",
   "metadata": {},
   "outputs": [
    {
     "name": "stdout",
     "output_type": "stream",
     "text": [
      "Apple\n",
      "Mango\n",
      "Cherries\n",
      "Banana\n"
     ]
    }
   ],
   "source": [
    "fruits=[\"Apple\",\"Mango\",\"Cherries\",\"Banana\"]\n",
    "for x in fruits:\n",
    "    print(x)\n"
   ]
  },
  {
   "cell_type": "code",
   "execution_count": 9,
   "id": "20b789d9",
   "metadata": {},
   "outputs": [
    {
     "name": "stdout",
     "output_type": "stream",
     "text": [
      "P\n",
      "r\n",
      "e\n",
      "m\n",
      "a\n",
      "l\n",
      "a\n",
      "t\n",
      "h\n",
      "a\n"
     ]
    }
   ],
   "source": [
    "for x in \"Premalatha\":\n",
    "    print(x)"
   ]
  },
  {
   "cell_type": "code",
   "execution_count": 17,
   "id": "06b06242",
   "metadata": {},
   "outputs": [
    {
     "name": "stdout",
     "output_type": "stream",
     "text": [
      "Apple\n",
      "Mango\n",
      "Cherries\n"
     ]
    }
   ],
   "source": [
    "fruits=[\"Apple\",\"Mango\",\"Cherries\",\"Banana\"]\n",
    "for x in fruits:\n",
    "    print(x)\n",
    "    if x==\"Cherries\":\n",
    "        break"
   ]
  },
  {
   "cell_type": "code",
   "execution_count": 18,
   "id": "472e74a6",
   "metadata": {},
   "outputs": [
    {
     "name": "stdout",
     "output_type": "stream",
     "text": [
      "Apple\n",
      "Mango\n",
      "Cherries\n"
     ]
    }
   ],
   "source": [
    "fruits=[\"Apple\",\"Mango\",\"Cherries\",\"Banana\"]\n",
    "for x in fruits:\n",
    "    print(x)\n",
    "    if x==\"Cherries\":\n",
    "        break\n",
    "        print(x)"
   ]
  },
  {
   "cell_type": "code",
   "execution_count": 19,
   "id": "a8ca7f7c",
   "metadata": {},
   "outputs": [
    {
     "name": "stdout",
     "output_type": "stream",
     "text": [
      "0\n",
      "1\n",
      "2\n",
      "3\n",
      "4\n",
      "5\n",
      "6\n",
      "7\n",
      "8\n",
      "9\n"
     ]
    }
   ],
   "source": [
    "for x in range(10):\n",
    "    print(x)"
   ]
  },
  {
   "cell_type": "code",
   "execution_count": 20,
   "id": "eec37595",
   "metadata": {},
   "outputs": [
    {
     "name": "stdout",
     "output_type": "stream",
     "text": [
      "3\n",
      "4\n",
      "5\n",
      "6\n"
     ]
    }
   ],
   "source": [
    "for  x in range (3,7):\n",
    "    print (x)"
   ]
  },
  {
   "cell_type": "code",
   "execution_count": 25,
   "id": "fca77f80",
   "metadata": {},
   "outputs": [],
   "source": [
    "\n"
   ]
  },
  {
   "cell_type": "code",
   "execution_count": 35,
   "id": "a9b13681",
   "metadata": {},
   "outputs": [
    {
     "name": "stdout",
     "output_type": "stream",
     "text": [
      "p\n",
      "r\n",
      "a\n",
      "t\n"
     ]
    }
   ],
   "source": [
    "for x in \"pratyush\":\n",
    "    print(x)\n",
    "    if x=='t':\n",
    "        break\n",
    "        print(x)"
   ]
  },
  {
   "cell_type": "code",
   "execution_count": 32,
   "id": "1f6e82da",
   "metadata": {},
   "outputs": [
    {
     "name": "stdout",
     "output_type": "stream",
     "text": [
      "p\n",
      "r\n",
      "a\n"
     ]
    }
   ],
   "source": [
    "for x in nam:\n",
    "    if x==\"t\":\n",
    "        break\n",
    "    print(x)"
   ]
  },
  {
   "cell_type": "code",
   "execution_count": 33,
   "id": "11d82bbb",
   "metadata": {},
   "outputs": [
    {
     "name": "stdout",
     "output_type": "stream",
     "text": [
      "p\n",
      "r\n",
      "a\n",
      "y\n",
      "u\n",
      "s\n",
      "h\n"
     ]
    }
   ],
   "source": [
    "for x in nam:\n",
    "    if x==\"t\":\n",
    "        continue\n",
    "    print(x)"
   ]
  },
  {
   "cell_type": "code",
   "execution_count": 36,
   "id": "bee43cf9",
   "metadata": {},
   "outputs": [
    {
     "name": "stdout",
     "output_type": "stream",
     "text": [
      "Paul\n",
      "Counter is 0\n",
      "Erin\n",
      "Counter is 1\n"
     ]
    }
   ],
   "source": [
    "students = [\"Paul\", \"Erin\", \"Connie\", \"Moira\"]\n",
    "\n",
    "for student in range(0, len(students)):\n",
    "    if student == 2:\n",
    "        break\n",
    "    else:\n",
    "        print(students[student])\n",
    "\n",
    "    print(\"Counter is \" + str(student))"
   ]
  },
  {
   "cell_type": "code",
   "execution_count": 37,
   "id": "2b82ebf5",
   "metadata": {},
   "outputs": [
    {
     "data": {
      "text/plain": [
       "'2'"
      ]
     },
     "execution_count": 37,
     "metadata": {},
     "output_type": "execute_result"
    }
   ],
   "source": [
    "str(student)"
   ]
  },
  {
   "cell_type": "code",
   "execution_count": 38,
   "id": "b29d9e93",
   "metadata": {},
   "outputs": [
    {
     "name": "stdout",
     "output_type": "stream",
     "text": [
      "mon\n",
      "tue\n",
      "wed\n",
      "thur\n"
     ]
    }
   ],
   "source": [
    "days=['mon','tue','wed','thur','fri','sat','sun']\n",
    "for x in days:\n",
    "    if x =='fri':\n",
    "       break\n",
    "    print(x)"
   ]
  },
  {
   "cell_type": "code",
   "execution_count": 39,
   "id": "a4665733",
   "metadata": {},
   "outputs": [
    {
     "name": "stdout",
     "output_type": "stream",
     "text": [
      "Addition is: 120\n"
     ]
    }
   ],
   "source": [
    "num=15\n",
    "addition=0\n",
    "i=1\n",
    "while i<=num:\n",
    "    addition=addition+i\n",
    "    i=i+1\n",
    "print(\"Addition is:\",addition)"
   ]
  },
  {
   "cell_type": "code",
   "execution_count": 43,
   "id": "f8d312c4",
   "metadata": {},
   "outputs": [
    {
     "name": "stdout",
     "output_type": "stream",
     "text": [
      "120\n"
     ]
    }
   ],
   "source": [
    "sum=0\n",
    "for x in range(1,16):\n",
    "    sum=sum+x\n",
    "print(sum)\n"
   ]
  },
  {
   "cell_type": "code",
   "execution_count": 44,
   "id": "8e7f1d30",
   "metadata": {},
   "outputs": [
    {
     "name": "stdout",
     "output_type": "stream",
     "text": [
      "d\n",
      "a\n",
      "t\n",
      "a\n",
      "S\n",
      "c\n",
      "i\n",
      "The for loop stopped executing\n"
     ]
    }
   ],
   "source": [
    "text=\"dataScience\"\n",
    "for letter in text:\n",
    "    if letter==\"e\":\n",
    "        break\n",
    "    print(letter)\n",
    "print(\"The for loop stopped executing\")"
   ]
  },
  {
   "cell_type": "code",
   "execution_count": 45,
   "id": "8cdf496f",
   "metadata": {},
   "outputs": [
    {
     "name": "stdout",
     "output_type": "stream",
     "text": [
      "d\n",
      "a\n",
      "t\n",
      "a\n",
      "S\n",
      "c\n",
      "i\n",
      "The loop leave a space here\n",
      "n\n",
      "c\n",
      "The loop leave a space here\n"
     ]
    }
   ],
   "source": [
    "text=\"dataScience\"\n",
    "for letter in text:\n",
    "    if letter==\"e\":\n",
    "        print(\"The loop leave a space here\")\n",
    "        continue\n",
    "    print(letter)"
   ]
  },
  {
   "cell_type": "code",
   "execution_count": 46,
   "id": "999882a0",
   "metadata": {},
   "outputs": [
    {
     "name": "stdout",
     "output_type": "stream",
     "text": [
      "Enter number of levels:5\n",
      "1 \n",
      "\n",
      "2 2 \n",
      "\n",
      "3 3 3 \n",
      "\n",
      "4 4 4 4 \n",
      "\n",
      "5 5 5 5 5 \n",
      "\n"
     ]
    }
   ],
   "source": [
    "levels=int(input(\"Enter number of levels:\"))\n",
    "for level in range(1,levels+1):\n",
    "    for num in range(level):\n",
    "        print(level,end=\" \")\n",
    "        \n",
    "    print(\"\\n\")\n"
   ]
  },
  {
   "cell_type": "code",
   "execution_count": 50,
   "id": "201cd87f",
   "metadata": {},
   "outputs": [
    {
     "name": "stdout",
     "output_type": "stream",
     "text": [
      "enter nom of rows:5\n",
      "0 \n",
      "\n",
      "0 1 \n",
      "\n",
      "0 1 2 \n",
      "\n",
      "0 1 2 3 \n",
      "\n",
      "0 1 2 3 4 \n",
      "\n"
     ]
    }
   ],
   "source": [
    "rows=int(input(\"enter nom of rows:\"))\n",
    "for rows in range(1,rows+1):\n",
    "    for i in range(rows): \n",
    "        print(i,end=\" \")\n",
    "    print(\"\\n\")   "
   ]
  },
  {
   "cell_type": "code",
   "execution_count": 52,
   "id": "d2477f14",
   "metadata": {},
   "outputs": [
    {
     "name": "stdout",
     "output_type": "stream",
     "text": [
      "enter nom of rows:5\n",
      "1 \n",
      "\n",
      "2 3 \n",
      "\n",
      "3 4 5 \n",
      "\n",
      "4 5 6 7 \n",
      "\n",
      "5 6 7 8 9 \n",
      "\n"
     ]
    }
   ],
   "source": [
    "rows=int(input(\"enter nom of rows:\"))\n",
    "for rows in range(1,rows+1):\n",
    "    for i in range(rows): \n",
    "        print(rows+i,end=\" \")\n",
    "    print(\"\\n\")   "
   ]
  },
  {
   "cell_type": "code",
   "execution_count": 53,
   "id": "e2825aa6",
   "metadata": {},
   "outputs": [
    {
     "name": "stdout",
     "output_type": "stream",
     "text": [
      "enter nom of rows:6\n",
      "* \n",
      "\n",
      "* * \n",
      "\n",
      "* * * \n",
      "\n",
      "* * * * \n",
      "\n",
      "* * * * * \n",
      "\n",
      "* * * * * * \n",
      "\n"
     ]
    }
   ],
   "source": [
    "rows=int(input(\"enter nom of rows:\"))\n",
    "for rows in range(1,rows+1):\n",
    "    for i in range(rows): \n",
    "        print(\"*\",end=\" \")\n",
    "    print(\"\\n\")   "
   ]
  },
  {
   "cell_type": "code",
   "execution_count": 55,
   "id": "dcf2dd5b",
   "metadata": {},
   "outputs": [
    {
     "name": "stdout",
     "output_type": "stream",
     "text": [
      "* \n",
      "\n",
      "* \n",
      "\n",
      "* \n",
      "\n",
      "* \n",
      "\n",
      "* \n",
      "\n",
      "* \n",
      "\n",
      "* \n",
      "\n"
     ]
    }
   ],
   "source": [
    "num=0\n",
    "i=6\n",
    "while i>=num:\n",
    "    print(\"*\",end=\" \")\n",
    "    i=i-1\n",
    "    print(\"\\n\")"
   ]
  },
  {
   "cell_type": "code",
   "execution_count": null,
   "id": "ef4d0a35",
   "metadata": {},
   "outputs": [],
   "source": []
  }
 ],
 "metadata": {
  "kernelspec": {
   "display_name": "Python 3 (ipykernel)",
   "language": "python",
   "name": "python3"
  },
  "language_info": {
   "codemirror_mode": {
    "name": "ipython",
    "version": 3
   },
   "file_extension": ".py",
   "mimetype": "text/x-python",
   "name": "python",
   "nbconvert_exporter": "python",
   "pygments_lexer": "ipython3",
   "version": "3.9.12"
  }
 },
 "nbformat": 4,
 "nbformat_minor": 5
}
