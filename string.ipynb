{
 "cells": [
  {
   "cell_type": "code",
   "execution_count": 1,
   "id": "54f980d7",
   "metadata": {},
   "outputs": [],
   "source": [
    "string=\"I love my country \""
   ]
  },
  {
   "cell_type": "code",
   "execution_count": 2,
   "id": "d6b15924",
   "metadata": {},
   "outputs": [
    {
     "data": {
      "text/plain": [
       "'I love India '"
      ]
     },
     "execution_count": 2,
     "metadata": {},
     "output_type": "execute_result"
    }
   ],
   "source": [
    "string.replace(\"my country\",\"India\")"
   ]
  },
  {
   "cell_type": "code",
   "execution_count": 4,
   "id": "6d02bfc3",
   "metadata": {},
   "outputs": [
    {
     "data": {
      "text/plain": [
       "'I LOVE MY COUNTRY '"
      ]
     },
     "execution_count": 4,
     "metadata": {},
     "output_type": "execute_result"
    }
   ],
   "source": [
    "string.upper()"
   ]
  },
  {
   "cell_type": "code",
   "execution_count": 5,
   "id": "89080a4e",
   "metadata": {},
   "outputs": [
    {
     "data": {
      "text/plain": [
       "'I Love My Country '"
      ]
     },
     "execution_count": 5,
     "metadata": {},
     "output_type": "execute_result"
    }
   ],
   "source": [
    "string.title()"
   ]
  },
  {
   "cell_type": "code",
   "execution_count": 9,
   "id": "e962becf",
   "metadata": {},
   "outputs": [
    {
     "data": {
      "text/plain": [
       "'03-02-2002'"
      ]
     },
     "execution_count": 9,
     "metadata": {},
     "output_type": "execute_result"
    }
   ],
   "source": [
    "date=\"03\",\"02\",\"2002\"\n",
    "sep='-'\n",
    "sep.join(date)"
   ]
  },
  {
   "cell_type": "code",
   "execution_count": 12,
   "id": "57fa8ed0",
   "metadata": {},
   "outputs": [
    {
     "data": {
      "text/plain": [
       "' love my country '"
      ]
     },
     "execution_count": 12,
     "metadata": {},
     "output_type": "execute_result"
    }
   ],
   "source": [
    "string.strip(\"I\")"
   ]
  },
  {
   "cell_type": "code",
   "execution_count": null,
   "id": "c0bd43f8",
   "metadata": {},
   "outputs": [],
   "source": []
  }
 ],
 "metadata": {
  "kernelspec": {
   "display_name": "Python 3 (ipykernel)",
   "language": "python",
   "name": "python3"
  },
  "language_info": {
   "codemirror_mode": {
    "name": "ipython",
    "version": 3
   },
   "file_extension": ".py",
   "mimetype": "text/x-python",
   "name": "python",
   "nbconvert_exporter": "python",
   "pygments_lexer": "ipython3",
   "version": "3.9.12"
  }
 },
 "nbformat": 4,
 "nbformat_minor": 5
}
