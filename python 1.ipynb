{
 "cells": [
  {
   "cell_type": "code",
   "execution_count": 2,
   "id": "966bed52",
   "metadata": {},
   "outputs": [
    {
     "name": "stdout",
     "output_type": "stream",
     "text": [
      "har har mahadev\n"
     ]
    }
   ],
   "source": [
    "print(\"har har mahadev\")"
   ]
  },
  {
   "cell_type": "code",
   "execution_count": 3,
   "id": "31bf343e",
   "metadata": {},
   "outputs": [
    {
     "data": {
      "text/plain": [
       "False"
      ]
     },
     "execution_count": 3,
     "metadata": {},
     "output_type": "execute_result"
    }
   ],
   "source": [
    "bool()"
   ]
  },
  {
   "cell_type": "code",
   "execution_count": 6,
   "id": "93925b41",
   "metadata": {},
   "outputs": [
    {
     "data": {
      "text/plain": [
       "bool"
      ]
     },
     "execution_count": 6,
     "metadata": {},
     "output_type": "execute_result"
    }
   ],
   "source": [
    "type(True)\n"
   ]
  },
  {
   "cell_type": "code",
   "execution_count": 28,
   "id": "29d1a8bf",
   "metadata": {},
   "outputs": [],
   "source": [
    "mystr='pratyushkumar'"
   ]
  },
  {
   "cell_type": "code",
   "execution_count": 29,
   "id": "94ac0af1",
   "metadata": {},
   "outputs": [
    {
     "name": "stdout",
     "output_type": "stream",
     "text": [
      "True\n"
     ]
    }
   ],
   "source": [
    "print(mystr.isalnum())"
   ]
  },
  {
   "cell_type": "code",
   "execution_count": 30,
   "id": "56028512",
   "metadata": {},
   "outputs": [
    {
     "name": "stdout",
     "output_type": "stream",
     "text": [
      "True\n"
     ]
    }
   ],
   "source": [
    "print(mystr.isalpha())"
   ]
  },
  {
   "cell_type": "code",
   "execution_count": 31,
   "id": "bf53abf0",
   "metadata": {},
   "outputs": [
    {
     "name": "stdout",
     "output_type": "stream",
     "text": [
      "False\n"
     ]
    }
   ],
   "source": [
    "print(mystr.isspace())\n",
    "\n"
   ]
  },
  {
   "cell_type": "code",
   "execution_count": 32,
   "id": "6cc8a52a",
   "metadata": {},
   "outputs": [
    {
     "name": "stdout",
     "output_type": "stream",
     "text": [
      "True\n"
     ]
    }
   ],
   "source": [
    "print(mystr.isalpha())"
   ]
  },
  {
   "cell_type": "code",
   "execution_count": 33,
   "id": "4dfcfee3",
   "metadata": {},
   "outputs": [
    {
     "data": {
      "text/plain": [
       "True"
      ]
     },
     "execution_count": 33,
     "metadata": {},
     "output_type": "execute_result"
    }
   ],
   "source": [
    "True or False"
   ]
  },
  {
   "cell_type": "code",
   "execution_count": 34,
   "id": "8856ebb3",
   "metadata": {},
   "outputs": [],
   "source": [
    "lst=[]"
   ]
  },
  {
   "cell_type": "code",
   "execution_count": 46,
   "id": "7645bd42",
   "metadata": {},
   "outputs": [
    {
     "data": {
      "text/plain": [
       "10"
      ]
     },
     "execution_count": 46,
     "metadata": {},
     "output_type": "execute_result"
    }
   ],
   "source": [
    "#lst.insert(1,\"pk\")\n",
    "#lst.append(\"ram\")\n",
    "#lst.pop()\n",
    "lst.count('pk')"
   ]
  },
  {
   "cell_type": "code",
   "execution_count": 47,
   "id": "47d1bf1e",
   "metadata": {},
   "outputs": [
    {
     "name": "stdout",
     "output_type": "stream",
     "text": [
      "set()\n",
      "<class 'set'>\n"
     ]
    }
   ],
   "source": [
    "setvar=set()\n",
    "print(setvar)\n",
    "print(type(setvar))\n"
   ]
  },
  {
   "cell_type": "code",
   "execution_count": 48,
   "id": "7af34b93",
   "metadata": {},
   "outputs": [],
   "source": [
    "set={1,2,3,4}"
   ]
  },
  {
   "cell_type": "code",
   "execution_count": 49,
   "id": "499ff34e",
   "metadata": {},
   "outputs": [
    {
     "name": "stdout",
     "output_type": "stream",
     "text": [
      "{1, 2, 3, 4}\n"
     ]
    }
   ],
   "source": [
    "print(set)"
   ]
  },
  {
   "cell_type": "code",
   "execution_count": 3,
   "id": "9439ffed",
   "metadata": {},
   "outputs": [
    {
     "name": "stdout",
     "output_type": "stream",
     "text": [
      "{'pk', 'raju', 'ramesh'}\n"
     ]
    }
   ],
   "source": [
    "setvar={\"ramesh\",\"pk\",\"raju\",\"pk\"}\n",
    "print(setvar)"
   ]
  },
  {
   "cell_type": "code",
   "execution_count": 5,
   "id": "786a161d",
   "metadata": {},
   "outputs": [
    {
     "name": "stdout",
     "output_type": "stream",
     "text": [
      "{'pk', 'raju', 'ramesh', 'rutvik'}\n"
     ]
    }
   ],
   "source": [
    "setvar.add(\"rutvik\")\n",
    "print(setvar)"
   ]
  },
  {
   "cell_type": "code",
   "execution_count": 6,
   "id": "2ac7ff22",
   "metadata": {},
   "outputs": [
    {
     "data": {
      "text/plain": [
       "{'krisna', 'radhe'}"
      ]
     },
     "execution_count": 6,
     "metadata": {},
     "output_type": "execute_result"
    }
   ],
   "source": [
    "set1=setvar\n",
    "set2={\"pk\",\"radhe\",\"krisna\"}\n",
    "set2.difference(set1)"
   ]
  },
  {
   "cell_type": "code",
   "execution_count": 7,
   "id": "71cbc9f1",
   "metadata": {},
   "outputs": [
    {
     "data": {
      "text/plain": [
       "{'pk'}"
      ]
     },
     "execution_count": 7,
     "metadata": {},
     "output_type": "execute_result"
    }
   ],
   "source": [
    "set2.intersection(set1)"
   ]
  },
  {
   "cell_type": "code",
   "execution_count": 19,
   "id": "95d6215a",
   "metadata": {},
   "outputs": [
    {
     "name": "stdout",
     "output_type": "stream",
     "text": [
      "<class 'dict'>\n",
      "{'1': 'maruti', '2': 'mahadev', '3': 'Ram'}\n"
     ]
    }
   ],
   "source": [
    "dictry={}\n",
    "print(type(dictry))\n",
    "dictry={\"1\":\"maruti\",\"2\":\"mahadev\",\"3\":\"Ram\"}\n",
    "print(dictry)\n"
   ]
  },
  {
   "cell_type": "code",
   "execution_count": null,
   "id": "6113133b",
   "metadata": {},
   "outputs": [],
   "source": []
  }
 ],
 "metadata": {
  "kernelspec": {
   "display_name": "Python 3 (ipykernel)",
   "language": "python",
   "name": "python3"
  },
  "language_info": {
   "codemirror_mode": {
    "name": "ipython",
    "version": 3
   },
   "file_extension": ".py",
   "mimetype": "text/x-python",
   "name": "python",
   "nbconvert_exporter": "python",
   "pygments_lexer": "ipython3",
   "version": "3.9.12"
  }
 },
 "nbformat": 4,
 "nbformat_minor": 5
}
