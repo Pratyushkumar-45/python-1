{
 "cells": [
  {
   "cell_type": "code",
   "execution_count": 1,
   "id": "98fa81c6",
   "metadata": {},
   "outputs": [
    {
     "name": "stdout",
     "output_type": "stream",
     "text": [
      "Hello:Welcome to the session\n"
     ]
    }
   ],
   "source": [
    "print(\"Hello\",\"Welcome to the session\",sep=':')"
   ]
  },
  {
   "cell_type": "code",
   "execution_count": 3,
   "id": "72d458db",
   "metadata": {},
   "outputs": [
    {
     "name": "stdout",
     "output_type": "stream",
     "text": [
      "python is easy\n"
     ]
    }
   ],
   "source": [
    "print(\"python is\" + \" easy\")"
   ]
  },
  {
   "cell_type": "code",
   "execution_count": 4,
   "id": "a1d30566",
   "metadata": {},
   "outputs": [
    {
     "name": "stdout",
     "output_type": "stream",
     "text": [
      "my no. is 8147121832\n"
     ]
    }
   ],
   "source": [
    "print(\"my no. is \"+str(8147121832))"
   ]
  },
  {
   "cell_type": "code",
   "execution_count": 8,
   "id": "230b5e94",
   "metadata": {},
   "outputs": [
    {
     "name": "stdout",
     "output_type": "stream",
     "text": [
      "enter num1  67\n",
      "enyer num 2  5\n",
      "sum is  72\n"
     ]
    }
   ],
   "source": [
    "def add(num1,num2):\n",
    "    add=num1+num2\n",
    "    return(add)\n",
    "num1=int(input(\"enter num1  \"))\n",
    "num2=int(input(\"enyer num 2  \"))\n",
    "sum=add(num1,num2)\n",
    "print(\"sum is \" , sum)"
   ]
  },
  {
   "cell_type": "code",
   "execution_count": null,
   "id": "b912eebb",
   "metadata": {},
   "outputs": [],
   "source": []
  }
 ],
 "metadata": {
  "kernelspec": {
   "display_name": "Python 3 (ipykernel)",
   "language": "python",
   "name": "python3"
  },
  "language_info": {
   "codemirror_mode": {
    "name": "ipython",
    "version": 3
   },
   "file_extension": ".py",
   "mimetype": "text/x-python",
   "name": "python",
   "nbconvert_exporter": "python",
   "pygments_lexer": "ipython3",
   "version": "3.9.12"
  }
 },
 "nbformat": 4,
 "nbformat_minor": 5
}
